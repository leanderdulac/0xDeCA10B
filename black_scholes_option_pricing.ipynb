{
  "cells": [
    {
      "cell_type": "markdown",
      "metadata": {
        "id": "view-in-github",
        "colab_type": "text"
      },
      "source": [
        "<a href=\"https://colab.research.google.com/github/leanderdulac/0xDeCA10B/blob/master/black_scholes_option_pricing.ipynb\" target=\"_parent\"><img src=\"https://colab.research.google.com/assets/colab-badge.svg\" alt=\"Open In Colab\"/></a>"
      ]
    },
    {
      "cell_type": "markdown",
      "metadata": {
        "id": "cE1jbsORN3oU"
      },
      "source": [
        "Black Scholes Formula is $$\\frac{\\partial V}{\\partial t} + \\frac{1}{2} \\sigma^2 S^2 \\frac{\\partial^2 V}{\\partial S^2}+rS \\frac{\\partial V}{\\partial S} - rV = 0$$"
      ]
    },
    {
      "cell_type": "markdown",
      "metadata": {
        "id": "gbXWOymiN3oV"
      },
      "source": [
        "Solving the above, we know thtat the value of a call option for a non-dividend paying stock is:\n",
        "$$C = SN(d_1) - Ke^{-rt}N(d_2)$$"
      ]
    },
    {
      "cell_type": "markdown",
      "metadata": {
        "id": "HN3b_YxzN3oW"
      },
      "source": [
        "and the corresponding put option price is\n",
        "$$P = Ke{-rt}N(-d_2) - SN(d_2)$$"
      ]
    },
    {
      "cell_type": "markdown",
      "metadata": {
        "id": "ns51UYdUN3oW"
      },
      "source": [
        "where\n",
        "$$d_1 = \\frac{1}{\\sigma \\sqrt{t}} \\left[ln \\left(\\frac{S}{K} \\right)+ \\left(r + \\frac{\\sigma^2}{2} \\right)t \\right]"
      ]
    },
    {
      "cell_type": "markdown",
      "metadata": {
        "id": "2u8LJctNN3oW"
      },
      "source": [
        "$$d2 = d1 - \\sigma \\sqrt{t}"
      ]
    },
    {
      "cell_type": "markdown",
      "metadata": {
        "id": "wS-p3rN8N3oW"
      },
      "source": [
        "$$N(x) = \\frac{1}{\\sqrt{2 \\pi}} \\int \\limits_{- \\infty}^{x} e^{-\\frac{1}{2}x^2}dx$$"
      ]
    },
    {
      "cell_type": "markdown",
      "metadata": {
        "id": "YtCFCnqPN3oW"
      },
      "source": [
        "S is the spot price of the underlying asset\n",
        "K is the strike price\n",
        "r is the annualized continuous compounded risk free rate\n",
        "\\sigma is the volatility of returns of the underlying asset\n",
        "t is time to maturity (expressed in years)\n",
        "N(x) is the standard normal cumulative function"
      ]
    },
    {
      "cell_type": "code",
      "execution_count": 1,
      "metadata": {
        "id": "VBvz3CCkN3oW"
      },
      "outputs": [],
      "source": [
        "#importing required libraries\n",
        "import pandas as pd\n",
        "from numpy import *\n",
        "import yfinance as yf\n",
        "from scipy.stats import norm\n",
        "\n",
        "#plotting\n",
        "import matplotlib.pyplot as plt\n",
        "from tabulate import tabulate\n",
        "\n",
        "#set max row to 300\n",
        "pd.set_option('display.max_rows', 300)"
      ]
    },
    {
      "cell_type": "code",
      "execution_count": 2,
      "metadata": {
        "id": "ksw6NTGBN3oX",
        "outputId": "0d14816c-1a0f-4400-fb11-2db4ba8195c2",
        "colab": {
          "base_uri": "https://localhost:8080/"
        }
      },
      "outputs": [
        {
          "output_type": "stream",
          "name": "stdout",
          "text": [
            "╒════════════════╤══════════╤══════════╤══════════╤═══════════╤══════════╕\n",
            "│   Option Price │    Delta │    Theta │     Vega │     Gamma │      Rho │\n",
            "╞════════════════╪══════════╪══════════╪══════════╪═══════════╪══════════╡\n",
            "│        6.88873 │ 0.597734 │ -5.47898 │ 0.273587 │ 0.0273587 │ 0.264424 │\n",
            "╘════════════════╧══════════╧══════════╧══════════╧═══════════╧══════════╛\n"
          ]
        }
      ],
      "source": [
        "class BS:\n",
        "\n",
        "    \"\"\"\n",
        "    This is a class for Options contract for pricing European options on stocks without dividends.\n",
        "\n",
        "    Attributes:\n",
        "        spot          : int or float\n",
        "        strike        : int or float\n",
        "        rate          : float\n",
        "        dte           : int or float [days to expiration in number of years]\n",
        "        volatility    : float\n",
        "    \"\"\"\n",
        "\n",
        "    def __init__(self, spot, strike, rate, dte, volatility):\n",
        "        self.spot = spot  # spot price\n",
        "        self.strike = strike  # option strike\n",
        "        self.rate = rate  # interest rate\n",
        "        self.dte = dte  # days to expiration\n",
        "        self.volatility = volatility  # volatility of underlying asset\n",
        "        self._a_ = self.volatility * sqrt(self.dte)  # volatility * sqrt(dte)\n",
        "\n",
        "        if self.strike == 0:\n",
        "            raise ZeroDivisionError('The strike price cannot be zero')\n",
        "\n",
        "        else:\n",
        "            self._d1_ = (log(self.spot / self.strike) + \\\n",
        "                         (self.rate + (self.volatility ** 2) / 2) * self.dte) / self._a_\n",
        "\n",
        "        self._d2_ = self._d1_ - self._a_\n",
        "        self._b_ = e ** -(self.rate * self.dte)\n",
        "\n",
        "        # the dict atribute\n",
        "        # '''Contains all the attributes defined for the object itself. It maps the attribute name to its value.\n",
        "\n",
        "        for i in ['Callprice', 'putprice', 'callDelta', 'putDelta', 'callTheta', 'putTheta', 'vega', 'gamma', 'callRho', 'putRho']:\n",
        "            self.__dict__[i] = None\n",
        "        [self.Callprice, self.putprice] = self._price()\n",
        "        [self.callDelta, self.putDelta] = self._delta()\n",
        "        [self.callTheta, self.putTheta] = self._theta()\n",
        "        [self.callRho, self.putRho] = self._rho()\n",
        "        self.vega = self._vega()\n",
        "        self.gamma = self._gamma()\n",
        "\n",
        "    def _price(self):\n",
        "        \"\"\"\n",
        "        This method calculates the price of a call and put option.\n",
        "        \"\"\"\n",
        "        if self.volatility == 0 or self.dte == 0:\n",
        "            call = maximum(0.0, self.spot - self.strike)\n",
        "            put = maximum(0.0, self.strike - self.spot)\n",
        "        else:\n",
        "            call = self.spot * norm.cdf(self._d1_) - self.strike * e ** (-self.rate * self.dte) * norm.cdf(self._d2_)\n",
        "\n",
        "            put = self.strike * e ** (-self.rate * self.dte) * norm.cdf(-self._d2_) - self.spot * norm.cdf(-self._d1_)\n",
        "\n",
        "        return [call, put]\n",
        "\n",
        "    def _delta(self):\n",
        "        \"\"\"\n",
        "        This method calculates the delta of a call and put option.\n",
        "        \"\"\"\n",
        "        if self.volatility == 0 or self.dte == 0:\n",
        "            callDelta = 1.0 if self.spot > self.strike else 0.0\n",
        "            putDelta = -1.0 if self.spot < self.strike else 0.0\n",
        "        else:\n",
        "            callDelta = norm.cdf(self._d1_)\n",
        "            putDelta = -norm.cdf(-self._d1_)\n",
        "        return [callDelta, putDelta]\n",
        "\n",
        "    # Option vegas\n",
        "    def _vega(self):\n",
        "        \"\"\"\n",
        "        This method calculates the vega of a call and put option.\n",
        "        \"\"\"\n",
        "        if self.volatility == 0 or self.dte == 0:\n",
        "            vega = 0.0\n",
        "        else:\n",
        "            vega = self.spot * norm.pdf(self._d1_) * sqrt(self.dte) / 100\n",
        "        return vega\n",
        "\n",
        "    # Option Theta\n",
        "    def _theta(self):\n",
        "        \"\"\"\n",
        "        This method calculates the theta of a call and put option.\n",
        "        \"\"\"\n",
        "\n",
        "        callTheta = -self.spot * norm.pdf(self._d1_) * self.volatility / (2 * sqrt(self.dte)) - self.rate * self.strike * self._b_ * norm.cdf(self._d2_) / 365\n",
        "        putTheta = -self.spot * norm.pdf(self._d1_) * self.volatility / (2 * sqrt(self.dte)) + self.rate * self.strike * self._b_ * norm.cdf(-self._d2_) / 365\n",
        "        return [callTheta, putTheta]\n",
        "\n",
        "    # Option Rho\n",
        "    def _rho(self):\n",
        "        \"\"\"\n",
        "        This method calculates the rho of a call and put option.\n",
        "        \"\"\"\n",
        "        callRho = self.strike * self.dte * self._b_ * norm.cdf(self._d2_) / 100\n",
        "        putRho = -self.strike * self.dte * self._b_ * norm.cdf(-self._d2_) / 100\n",
        "        return [callRho, putRho]\n",
        "\n",
        "    # Option Gamma\n",
        "    def _gamma(self):\n",
        "        \"\"\"\n",
        "        This method calculates the gamma of a call and put option.\n",
        "        \"\"\"\n",
        "        if self.volatility == 0 or self.dte == 0:\n",
        "            gamma = 0.0\n",
        "        else:\n",
        "            gamma = norm.pdf(self._d1_) / (self.spot * self._a_)\n",
        "        return gamma\n",
        "\n",
        "\n",
        "# initialize option\n",
        "option = BS(100, 100, 0.05, 0.5, 0.2)\n",
        "\n",
        "header = ['Option Price', 'Delta', 'Theta', 'Vega', 'Gamma', 'Rho']\n",
        "table = [[option.Callprice, option.callDelta, option.callTheta, option.vega, option.gamma, option.callRho]]\n",
        "\n",
        "print(tabulate(table, headers=header, tablefmt='fancy_grid'))\n"
      ]
    },
    {
      "cell_type": "markdown",
      "metadata": {
        "id": "bsxtmuL4N3oX"
      },
      "source": [
        "VALE OPTION"
      ]
    },
    {
      "cell_type": "code",
      "execution_count": 3,
      "metadata": {
        "id": "MUBSiDi2N3oX",
        "colab": {
          "base_uri": "https://localhost:8080/",
          "height": 297
        },
        "outputId": "d2915af7-0e50-4cf1-eef2-a1e11adef1ab"
      },
      "outputs": [
        {
          "output_type": "error",
          "ename": "ValueError",
          "evalue": "Expiration `2023-05-05` cannot be found. Available expirations are: [2025-02-07, 2025-02-14, 2025-02-21, 2025-02-28, 2025-03-07, 2025-03-14, 2025-03-21, 2025-04-17, 2025-05-16, 2025-06-20, 2025-07-18, 2025-08-15, 2025-09-19, 2025-10-17, 2025-12-19, 2026-01-16, 2026-03-20, 2026-06-18, 2026-12-18, 2027-01-15, 2027-06-17]",
          "traceback": [
            "\u001b[0;31m---------------------------------------------------------------------------\u001b[0m",
            "\u001b[0;31mValueError\u001b[0m                                Traceback (most recent call last)",
            "\u001b[0;32m<ipython-input-3-720a79e6466d>\u001b[0m in \u001b[0;36m<cell line: 0>\u001b[0;34m()\u001b[0m\n\u001b[1;32m      1\u001b[0m \u001b[0maple\u001b[0m \u001b[0;34m=\u001b[0m \u001b[0myf\u001b[0m\u001b[0;34m.\u001b[0m\u001b[0mTicker\u001b[0m\u001b[0;34m(\u001b[0m\u001b[0;34m'AAPL'\u001b[0m\u001b[0;34m)\u001b[0m\u001b[0;34m\u001b[0m\u001b[0;34m\u001b[0m\u001b[0m\n\u001b[0;32m----> 2\u001b[0;31m \u001b[0moptions\u001b[0m \u001b[0;34m=\u001b[0m \u001b[0maple\u001b[0m\u001b[0;34m.\u001b[0m\u001b[0moption_chain\u001b[0m\u001b[0;34m(\u001b[0m\u001b[0;34m'2023-05-05'\u001b[0m\u001b[0;34m)\u001b[0m\u001b[0;34m\u001b[0m\u001b[0;34m\u001b[0m\u001b[0m\n\u001b[0m",
            "\u001b[0;32m/usr/local/lib/python3.11/dist-packages/yfinance/ticker.py\u001b[0m in \u001b[0;36moption_chain\u001b[0;34m(self, date, tz)\u001b[0m\n\u001b[1;32m     88\u001b[0m                 \u001b[0mself\u001b[0m\u001b[0;34m.\u001b[0m\u001b[0m_download_options\u001b[0m\u001b[0;34m(\u001b[0m\u001b[0;34m)\u001b[0m\u001b[0;34m\u001b[0m\u001b[0;34m\u001b[0m\u001b[0m\n\u001b[1;32m     89\u001b[0m             \u001b[0;32mif\u001b[0m \u001b[0mdate\u001b[0m \u001b[0;32mnot\u001b[0m \u001b[0;32min\u001b[0m \u001b[0mself\u001b[0m\u001b[0;34m.\u001b[0m\u001b[0m_expirations\u001b[0m\u001b[0;34m:\u001b[0m\u001b[0;34m\u001b[0m\u001b[0;34m\u001b[0m\u001b[0m\n\u001b[0;32m---> 90\u001b[0;31m                 raise ValueError(\n\u001b[0m\u001b[1;32m     91\u001b[0m                     \u001b[0;34mf\"Expiration `{date}` cannot be found. \"\u001b[0m\u001b[0;34m\u001b[0m\u001b[0;34m\u001b[0m\u001b[0m\n\u001b[1;32m     92\u001b[0m                     f\"Available expirations are: [{', '.join(self._expirations)}]\")\n",
            "\u001b[0;31mValueError\u001b[0m: Expiration `2023-05-05` cannot be found. Available expirations are: [2025-02-07, 2025-02-14, 2025-02-21, 2025-02-28, 2025-03-07, 2025-03-14, 2025-03-21, 2025-04-17, 2025-05-16, 2025-06-20, 2025-07-18, 2025-08-15, 2025-09-19, 2025-10-17, 2025-12-19, 2026-01-16, 2026-03-20, 2026-06-18, 2026-12-18, 2027-01-15, 2027-06-17]"
          ]
        }
      ],
      "source": [
        "aple = yf.Ticker('AAPL')\n",
        "options = aple.option_chain('2023-05-05')"
      ]
    },
    {
      "cell_type": "code",
      "execution_count": null,
      "metadata": {
        "id": "YRn3z7ygN3oY"
      },
      "outputs": [],
      "source": [
        "from datetime import datetime\n",
        "(datetime(2023, 5, 5) - datetime.now()).days / 365"
      ]
    },
    {
      "cell_type": "code",
      "execution_count": null,
      "metadata": {
        "id": "LBNZNaLoN3oY"
      },
      "outputs": [],
      "source": [
        "#may 2023 400 apple call option price\n",
        "spot = 400; strike = 400; rate = 0.0; dte = 0.575; volatility = 0.1805\n",
        "\n",
        "aple_opt = BS(spot, strike, rate, dte, volatility)\n",
        "print(f'Option price of AAPL 400 call option is {aple_opt.Callprice}')"
      ]
    },
    {
      "cell_type": "code",
      "execution_count": null,
      "metadata": {
        "id": "c6lSChqRN3oY"
      },
      "outputs": [],
      "source": [
        "options.calls.head()"
      ]
    },
    {
      "cell_type": "code",
      "execution_count": null,
      "metadata": {
        "id": "3w_ZOgRnN3oY"
      },
      "outputs": [],
      "source": [
        "#filters calls for a strike at or above 100\n",
        "DF = options.calls[options.calls['strike'] >= 100]\n",
        "DF.reset_index(drop=True, inplace=True)\n",
        "\n",
        "#dataframe manipulation with selected fields\n",
        "DF = pd.DataFrame({'strike': DF['strike'], 'lastPrice': DF['lastPrice'], 'volume': DF['volume'], 'impliedVolatility': DF['impliedVolatility']})\n",
        "\n",
        "#derive greeks and assign to dataframe as columns\n",
        "DF['Delta'] = DF['Gamma'] = DF['Theta'] = DF['Vega'] = DF['Rho'] = 0.0\n",
        "\n",
        "for i in range(len(DF)):\n",
        "\n",
        "    DF['Delta'].iloc[i] = BS(spot, DF['strike'].iloc[i], rate, dte, DF['impliedVolatility'].iloc[i]).callDelta\n",
        "    DF['Gamma'].iloc[i] = BS(spot, DF['strike'].iloc[i], rate, dte, DF['impliedVolatility'].iloc[i]).gamma\n",
        "    DF['Theta'].iloc[i] = BS(spot, DF['strike'].iloc[i], rate, dte, DF['impliedVolatility'].iloc[i]).callTheta\n",
        "    DF['Vega'].iloc[i] = BS(spot, DF['strike'].iloc[i], rate, dte, DF['impliedVolatility'].iloc[i]).vega\n",
        "\n",
        "\n",
        "DF.head()"
      ]
    },
    {
      "cell_type": "code",
      "execution_count": null,
      "metadata": {
        "id": "spJDy0l0N3oZ"
      },
      "outputs": [],
      "source": [
        "#plot graph\n",
        "\n",
        "fig, ax = plt.subplots(2,2,figsize = (20,10))\n",
        "\n",
        "ax[0,0].plot(DF['strike'], DF['Delta'], color = 'red', label = 'MAI 23')\n",
        "ax[0,1].plot(DF['strike'], DF['Gamma'], color = 'blue', label = 'MAI 23')\n",
        "ax[1,0].plot(DF['strike'], DF['Vega'], color = 'green', label = 'MAI 23')\n",
        "ax[1,1].plot(DF['strike'], DF['Theta'], color = 'black', label = 'MAI 23')\n",
        "\n",
        "#set axis title\n",
        "ax[0,0].set_title('Delta'), ax[0,1].set_title('Gamma'), ax[1,0].set_title('Vega'), ax[1,1].set_title('Theta')\n",
        "\n",
        "#define legend\n",
        "ax[0,0].legend(), ax[0,1].legend(), ax[1,0].legend(), ax[1,1].legend()\n",
        "\n",
        "#set title\n",
        "fig.suptitle('Greeks vs Strike Price', fontsize = 20)\n",
        "\n",
        "plt.show()"
      ]
    },
    {
      "cell_type": "code",
      "execution_count": null,
      "metadata": {
        "id": "T8_8abkPN3oZ"
      },
      "outputs": [],
      "source": []
    }
  ],
  "metadata": {
    "kernelspec": {
      "display_name": "doctrine",
      "language": "python",
      "name": "python3"
    },
    "language_info": {
      "codemirror_mode": {
        "name": "ipython",
        "version": 3
      },
      "file_extension": ".py",
      "mimetype": "text/x-python",
      "name": "python",
      "nbconvert_exporter": "python",
      "pygments_lexer": "ipython3",
      "version": "3.10.9"
    },
    "orig_nbformat": 4,
    "vscode": {
      "interpreter": {
        "hash": "c33b42db0001f1630d0bae1155f8ab05b04e6af36094234bb6f5be466d7a2f33"
      }
    },
    "colab": {
      "provenance": [],
      "include_colab_link": true
    }
  },
  "nbformat": 4,
  "nbformat_minor": 0
}